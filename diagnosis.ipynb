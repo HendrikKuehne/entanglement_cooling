{
 "cells": [
  {
   "cell_type": "code",
   "execution_count": 1,
   "metadata": {},
   "outputs": [],
   "source": [
    "import pennylane as qml\n",
    "import numpy as np\n",
    "import scipy as sci\n",
    "from lib import MPS,init_spinup_MPS,vn_entropy\n",
    "import time"
   ]
  },
  {
   "cell_type": "code",
   "execution_count": 2,
   "metadata": {},
   "outputs": [],
   "source": [
    "nWires = 10"
   ]
  },
  {
   "cell_type": "code",
   "execution_count": 3,
   "metadata": {},
   "outputs": [],
   "source": [
    "device = qml.device(\"lightning.qubit\",wires=nWires)\n",
    "\n",
    "@qml.qnode(device)\n",
    "def pennylane_heating(N:int,gates:list,wire_indices:list):\n",
    "    # the gates from which we choose\n",
    "    gate_set = {\n",
    "        \"CNOT\":qml.CNOT,\n",
    "        \"T\":qml.T,\n",
    "        \"H\":qml.Hadamard,\n",
    "        \"X\":qml.X,\n",
    "        \"S\":qml.S\n",
    "    }\n",
    "\n",
    "    # rotating each qubit to create the initial state from the paper\n",
    "    for iWire,phi in enumerate(np.linspace(start=1,stop=np.pi,num=nWires)):#enumerate(np.random.uniform(low=0,high=np.pi,size=(nWires,))):\n",
    "        qml.RY(phi=phi,wires=iWire)\n",
    "\n",
    "    for iStep,gate in enumerate(gates):\n",
    "        gate_set[gate](wires=wire_indices[iStep])\n",
    "\n",
    "    return qml.state()"
   ]
  },
  {
   "cell_type": "code",
   "execution_count": 4,
   "metadata": {},
   "outputs": [],
   "source": [
    "def MPS_heating(nWires:int,nSteps:int,gates:list,wire_indices:list) -> MPS:\n",
    "    state = init_spinup_MPS(L=nWires)\n",
    "\n",
    "    # rotating each qubit to create the initial state from the paper\n",
    "    RY = lambda phi: np.array([[np.cos(phi/2),(-1)*np.sin(phi/2)],[np.sin(phi/2),np.cos(phi/2)]],dtype=np.complex128)\n",
    "    for iWire,theta in enumerate(np.linspace(start=1,stop=np.pi,num=nWires)):#enumerate(np.random.uniform(low=0,high=np.pi,size=(nWires,))):\n",
    "        state.apply_operator(RY(theta),iWire)\n",
    "\n",
    "    H = np.array([[1,1],[1,-1]],dtype=np.complex128) / np.sqrt(2)\n",
    "    X = np.array([[0,1],[1,0]],dtype=np.complex128)\n",
    "    S = np.array([[1,0],[0,1j]],dtype=np.complex128)\n",
    "    T = np.array([[1,0],[0,np.exp(1j * np.pi / 4)]],dtype=np.complex128)\n",
    "    CNOT = np.array([[1,0,0,0],[0,1,0,0],[0,0,0,1],[0,0,1,0]],dtype=np.complex128)\n",
    "    gate_set = {\n",
    "        \"CNOT\":CNOT,\n",
    "        \"T\":T,\n",
    "        \"H\":H,\n",
    "        \"X\":X,\n",
    "        \"S\":S\n",
    "    }\n",
    "\n",
    "    for iStep,gate in enumerate(gates):\n",
    "        wires = wire_indices[iStep]\n",
    "        state.apply_operator(gate_set[gate],*wires)\n",
    "\n",
    "    return state"
   ]
  },
  {
   "cell_type": "code",
   "execution_count": 5,
   "metadata": {},
   "outputs": [],
   "source": [
    "def statevec_heating(nWires:int,nSteps:int,gates:list,wire_indices:list) -> np.ndarray:\n",
    "    \"\"\"\n",
    "    Entanglement heating of a random product state, using the gates in `gate_set`. Algorithm from \"Irreversibility and Entanglement\n",
    "    Spectrum Statistics in Quantum Circuits\", Shaffer et Al, 2014.\n",
    "    \n",
    "    Returns the resulting state and the entanglement entropy at every bond for every iteration.\n",
    "    \"\"\"\n",
    "    # initial state\n",
    "    state = np.zeros(shape=(2**nWires,),dtype=np.complex128)\n",
    "    state[0] = 1\n",
    "    state = np.reshape(state,newshape=[2 for iWire in range(nWires)])\n",
    "\n",
    "    # rotating each qubit to create the initial state from the paper\n",
    "    RY = lambda phi: np.array([[np.cos(phi/2),(-1)*np.sin(phi/2)],[np.sin(phi/2),np.cos(phi/2)]],dtype=np.complex128)\n",
    "    for iWire,theta in enumerate(np.linspace(start=1,stop=np.pi,num=nWires)):#enumerate(np.random.uniform(low=0,high=np.pi,size=(nWires,))):\n",
    "        state = np.tensordot(RY(theta),state,axes=(1,iWire))\n",
    "        indices = np.concatenate((\n",
    "            np.arange(iWire)+1,\n",
    "            [0,],\n",
    "            np.arange(iWire + 1,nWires)\n",
    "        ))\n",
    "        state = np.transpose(state,indices)\n",
    "\n",
    "    H = np.array([[1,1],[1,-1]],dtype=np.complex128) / np.sqrt(2)\n",
    "    X = np.array([[0,1],[1,0]],dtype=np.complex128)\n",
    "    S = np.array([[1,0],[0,1j]],dtype=np.complex128)\n",
    "    T = np.array([[1,0],[0,np.exp(1j * np.pi / 4)]],dtype=np.complex128)\n",
    "    CNOT = np.array([[1,0,0,0],[0,1,0,0],[0,0,0,1],[0,0,1,0]],dtype=np.complex128)\n",
    "    gate_set = {\n",
    "        \"CNOT\":CNOT,\n",
    "        \"T\":T,\n",
    "        \"H\":H,\n",
    "        \"X\":X,\n",
    "        \"S\":S\n",
    "    }\n",
    "\n",
    "    for iStep,gate in enumerate(gates):\n",
    "        wires = wire_indices[iStep]\n",
    "\n",
    "        if len(wires) == 1:\n",
    "            iWire = wires[0]\n",
    "            # we got ourselves a single-qubit gate\n",
    "            state = np.tensordot(gate_set[gate],state,axes=((1,),(iWire,)))\n",
    "            indices = np.concatenate((\n",
    "                np.arange(iWire)+1,\n",
    "                [0,],\n",
    "                np.arange(iWire + 1,nWires)\n",
    "            ))\n",
    "            state = np.transpose(state,indices)\n",
    "        else:\n",
    "            # we got ourselves a two-qubit gate\n",
    "            i1,i2 = wires\n",
    "            if i2 < i1:\n",
    "                # since the indices are flipped, we also need to flip the gate\n",
    "                SWAP = np.array([[1,0,0,0],[0,0,1,0],[0,1,0,0],[0,0,0,1]],dtype=np.complex128)\n",
    "                op = SWAP @ gate_set[gate] @ SWAP\n",
    "                i1,i2 = i2,i1\n",
    "            else:\n",
    "                op = gate_set[gate]\n",
    "            op = np.reshape(op,(2,2,2,2))\n",
    "            state = np.tensordot(op,state,axes=((2,3),(i1,i2)))\n",
    "            indices = np.concatenate((\n",
    "                np.arange(i1) + 2,\n",
    "                [0,],\n",
    "                np.arange(i2 - i1 - 1) + i1 + 2,\n",
    "                [1,],\n",
    "                np.arange(nWires-i2-1) + i2 + 1\n",
    "            ))\n",
    "            state = np.transpose(state,indices)\n",
    "    \n",
    "    return state.flatten()"
   ]
  },
  {
   "cell_type": "code",
   "execution_count": 6,
   "metadata": {},
   "outputs": [],
   "source": [
    "gate_set = (\"CNOT\",\"H\",\"T\")\n",
    "num_wires = {\"CNOT\":2,\"H\":1,\"T\":1,\"X\":1,\"S\":1}\n",
    "nSteps = 100\n",
    "\n",
    "gates = [gate_set[i] for i in np.random.randint(low=0,high=len(gate_set),size=(nSteps))]\n",
    "wire_indices = [tuple(np.random.choice(a=nWires,size=(num_wires[gate],),replace=False)) for gate in gates]\n",
    "\n",
    "#gates = []\n",
    "#wire_indices = []"
   ]
  },
  {
   "cell_type": "code",
   "execution_count": 7,
   "metadata": {},
   "outputs": [
    {
     "name": "stdout",
     "output_type": "stream",
     "text": [
      "norm of pennylane:   (0.9999999999999905+0j)\n",
      "norm of MPS custom:  (0.9999999999999905+0j)\n",
      "norm of psi custom:  (0.9999999999999929+0j)\n",
      "\n",
      "Are they close?\n",
      "   pennylane and MPS: True\n",
      "   pennylane and psi: True\n",
      "   MPS       and psi: True\n",
      "\n",
      "How long did it take?\n",
      "   pennylane: 0.00702s\n",
      "   MPS:       0.01967s\n",
      "   psi:       0.00221s\n"
     ]
    }
   ],
   "source": [
    "t1 = time.time()\n",
    "state_pennylane = pennylane_heating(nSteps,gates,wire_indices)\n",
    "t2 = time.time()\n",
    "MPS_custom = MPS_heating(nWires,nSteps,gates,wire_indices)\n",
    "t3 = time.time()\n",
    "state_psi = statevec_heating(nWires,nSteps,gates,wire_indices)\n",
    "t4 = time.time()\n",
    "\n",
    "state_MPS = MPS_custom.uncompress()\n",
    "\n",
    "print(\"norm of pennylane:  \",np.einsum(\"i,i->\",state_pennylane,state_pennylane.conj()))\n",
    "print(\"norm of MPS custom: \",np.einsum(\"i,i->\",state_MPS,state_MPS.conj()))\n",
    "print(\"norm of psi custom: \",np.einsum(\"i,i->\",state_psi,state_psi.conj()))\n",
    "\n",
    "print(\"\\nAre they close?\")\n",
    "print(\"   pennylane and MPS:\",np.allclose(state_pennylane,state_MPS))\n",
    "print(\"   pennylane and psi:\",np.allclose(state_pennylane,state_psi))\n",
    "print(\"   MPS       and psi:\",np.allclose(state_psi,state_MPS))\n",
    "\n",
    "print(\"\\nHow long did it take?\")\n",
    "print(\"   pennylane: {:.5f}s\".format(t2 - t1))\n",
    "print(\"   MPS:       {:.5f}s\".format(t3 - t2))\n",
    "print(\"   psi:       {:.5f}s\".format(t4 - t3))"
   ]
  },
  {
   "cell_type": "code",
   "execution_count": 8,
   "metadata": {},
   "outputs": [],
   "source": [
    "rho_pennylane = np.einsum(\"i,j->ij\",state_pennylane,state_pennylane.conj())\n",
    "rho_MPS = np.einsum(\"i,j->ij\",state_MPS,state_MPS.conj())\n",
    "S_MPS = MPS_custom.entanglement_entropy()\n",
    "\n",
    "indices = ()\n",
    "S_pennylane = ()\n",
    "for iWire in range(nWires-1):\n",
    "    indices += (iWire,)\n",
    "    S_pennylane += (qml.math.vn_entropy(rho_pennylane,indices,base=2),)\n",
    "S_pennylane = np.array(S_pennylane)"
   ]
  },
  {
   "cell_type": "code",
   "execution_count": 9,
   "metadata": {},
   "outputs": [
    {
     "name": "stdout",
     "output_type": "stream",
     "text": [
      "Entanglement entropy differences:\n",
      "  Function vn_entropy is correct.\n",
      "  MPS statevector gives the correct entropy.\n",
      "  Statevector simulation gives the correct entropy.\n",
      "  MPS bond singular values give the wrong entropy; max diff = 1.76591e-01; avg diff = 8.18922e-02\n"
     ]
    }
   ],
   "source": [
    "print(\"Entanglement entropy differences:\")\n",
    "if np.allclose(S_pennylane,vn_entropy(state_pennylane)): print(\"  Function vn_entropy is correct.\")\n",
    "if np.allclose(S_pennylane,vn_entropy(state_MPS)): print(\"  MPS statevector gives the correct entropy.\")\n",
    "if np.allclose(S_pennylane,vn_entropy(state_psi)): print(\"  Statevector simulation gives the correct entropy.\")\n",
    "if np.allclose(S_pennylane,S_MPS):\n",
    "    print(\"  MPS bond singular values give the correct entropy.\")\n",
    "else:\n",
    "    print(\"  MPS bond singular values give the wrong entropy; max diff = {:.5e}; avg diff = {:.5e}\".format(max(abs(S_pennylane - S_MPS)),abs(np.mean(S_pennylane)-np.mean(S_MPS))))"
   ]
  },
  {
   "cell_type": "code",
   "execution_count": null,
   "metadata": {},
   "outputs": [],
   "source": []
  }
 ],
 "metadata": {
  "kernelspec": {
   "display_name": "quantum",
   "language": "python",
   "name": "python3"
  },
  "language_info": {
   "codemirror_mode": {
    "name": "ipython",
    "version": 3
   },
   "file_extension": ".py",
   "mimetype": "text/x-python",
   "name": "python",
   "nbconvert_exporter": "python",
   "pygments_lexer": "ipython3",
   "version": "3.9.7"
  }
 },
 "nbformat": 4,
 "nbformat_minor": 2
}
